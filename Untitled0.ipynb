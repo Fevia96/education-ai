{
  "nbformat": 4,
  "nbformat_minor": 0,
  "metadata": {
    "colab": {
      "provenance": [],
      "authorship_tag": "ABX9TyNMpbC6eASfTtBbZMQ4CkeA",
      "include_colab_link": true
    },
    "kernelspec": {
      "name": "python3",
      "display_name": "Python 3"
    },
    "language_info": {
      "name": "python"
    }
  },
  "cells": [
    {
      "cell_type": "markdown",
      "metadata": {
        "id": "view-in-github",
        "colab_type": "text"
      },
      "source": [
        "<a href=\"https://colab.research.google.com/github/Fevia96/education-ai/blob/main/Untitled0.ipynb\" target=\"_parent\"><img src=\"https://colab.research.google.com/assets/colab-badge.svg\" alt=\"Open In Colab\"/></a>"
      ]
    },
    {
      "cell_type": "code",
      "execution_count": null,
      "metadata": {
        "id": "AIvaKkCGI8pR"
      },
      "outputs": [],
      "source": [
        "import tensorflow as tf\n",
        "import numpy as np\n",
        "import pandas as pd\n",
        "from sklearn.model_selection import train_test_split\n",
        "from sklearn.tree import DecisionTreeClassifier\n",
        "from sklearn.metrics import accuracy_score\n"
      ]
    },
    {
      "cell_type": "code",
      "source": [
        "test_data = pd.read_csv(\"/content/test_data.csv\", sep=';')\n",
        "difficulty_data = pd.read_csv('/content/difficulty_data.csv', sep=',')"
      ],
      "metadata": {
        "id": "4JKG33DYqQ_a"
      },
      "execution_count": null,
      "outputs": []
    },
    {
      "cell_type": "code",
      "source": [
        "from sklearn.preprocessing import OneHotEncoder\n",
        "\n",
        "# Wczytanie danych\n",
        "data = pd.read_csv(\"/content/test_data.csv\", sep=';')\n",
        "\n",
        "# Rozdzielenie kolumn 'Task Type' i 'Operation'\n",
        "task_type_encoded = pd.get_dummies(data['Task Type'], prefix='Task Type')\n",
        "operation_encoded = pd.get_dummies(data['Operation'], prefix='Operation')\n",
        "\n",
        "# Dodanie zakodowanych kategorii do danych\n",
        "data_encoded = pd.concat([data, task_type_encoded, operation_encoded], axis=1)\n",
        "\n",
        "# Usunięcie kolumn 'Task Type' i 'Operation'\n",
        "data_encoded.drop(['Task Type', 'Operation'], axis=1, inplace=True)\n",
        "\n",
        "# Wyświetlenie danych po zakodowaniu\n",
        "print(data_encoded.head())"
      ],
      "metadata": {
        "colab": {
          "base_uri": "https://localhost:8080/"
        },
        "id": "qBh1nsAtGKTf",
        "outputId": "6b606905-c11b-4b86-b366-568da08429c9"
      },
      "execution_count": null,
      "outputs": [
        {
          "output_type": "stream",
          "name": "stdout",
          "text": [
            "              Task Data  Student Response  Time Taken  Age Gender  \\\n",
            "0         Numbers: 8, 6                14  25 seconds    9      M   \n",
            "1         Numbers: 3, 5                15  30 seconds    8      F   \n",
            "2  Equation: x - 8 = 12                20  40 seconds   12      M   \n",
            "3       Numbers: 45, 23                22  50 seconds   11      F   \n",
            "4            Number: 57               114  70 seconds   10      M   \n",
            "\n",
            "    Skill Level  Task Type_Addition and Subtraction of Double Digits  \\\n",
            "0      Beginner                                                  0     \n",
            "1      Beginner                                                  0     \n",
            "2      Advanced                                                  0     \n",
            "3  Intermediate                                                  1     \n",
            "4  Intermediate                                                  0     \n",
            "\n",
            "   Task Type_Addition and Subtraction of Single Digits  \\\n",
            "0                                                  1     \n",
            "1                                                  0     \n",
            "2                                                  0     \n",
            "3                                                  0     \n",
            "4                                                  0     \n",
            "\n",
            "   Task Type_Multiplication and Division within Times Tables Range  \\\n",
            "0                                                  0                 \n",
            "1                                                  1                 \n",
            "2                                                  0                 \n",
            "3                                                  0                 \n",
            "4                                                  0                 \n",
            "\n",
            "   Task Type_Multiplying Double Digits by 2  \\\n",
            "0                                         0   \n",
            "1                                         0   \n",
            "2                                         0   \n",
            "3                                         0   \n",
            "4                                         1   \n",
            "\n",
            "   Task Type_Solving Equations with Unknown in Windowed Form  Operation_*  \\\n",
            "0                                                  0                    0   \n",
            "1                                                  0                    1   \n",
            "2                                                  1                    0   \n",
            "3                                                  0                    0   \n",
            "4                                                  0                    1   \n",
            "\n",
            "   Operation_+  Operation_-  Operation_=  \n",
            "0            1            0            0  \n",
            "1            0            0            0  \n",
            "2            1            0            0  \n",
            "3            0            1            0  \n",
            "4            0            0            0  \n"
          ]
        }
      ]
    },
    {
      "cell_type": "code",
      "source": [
        "# Wydzielenie etykiety (y) i cech (X)\n",
        "X = data.drop(['Task Type'], axis=1)\n",
        "y = data['Task Type']\n",
        "\n",
        "# Zakodowanie zmiennych kategorycznych (jeśli istnieją)\n",
        "X_encoded = pd.get_dummies(X)\n",
        "\n",
        "# Podział danych na zbiór treningowy i testowy\n",
        "X_train, X_test, y_train, y_test = train_test_split(X_encoded, y, test_size=0.2, random_state=42)\n",
        "\n",
        "# Inicjalizacja i trening modelu drzewa decyzyjnego\n",
        "tree_classifier = DecisionTreeClassifier()\n",
        "tree_classifier.fit(X_train, y_train)\n",
        "\n",
        "# Przewidywanie na zbiorze testowym\n",
        "y_pred = tree_classifier.predict(X_test)\n",
        "\n",
        "# Obliczenie dokładności modelu\n",
        "accuracy = accuracy_score(y_test, y_pred)\n",
        "print(f'Dokładność modelu: {accuracy}')"
      ],
      "metadata": {
        "colab": {
          "base_uri": "https://localhost:8080/"
        },
        "id": "ro9izvwt0SdC",
        "outputId": "c852fa6f-9056-4573-d1ee-1058ae8c8c1a"
      },
      "execution_count": null,
      "outputs": [
        {
          "output_type": "stream",
          "name": "stdout",
          "text": [
            "Dokładność modelu: 1.0\n"
          ]
        }
      ]
    },
    {
      "cell_type": "code",
      "source": [
        "# Klasyfikacja odpowiedzi\n",
        "\n",
        "def classify_answer(answer):\n",
        "  \"\"\"Klasyfikuje odpowiedź ucznia na pytanie matematyczne.\n",
        "\n",
        "  Argumenty:\n",
        "    answer: Odpowiedź ucznia na pytanie matematyczne.\n",
        "\n",
        "  Zwraca:\n",
        "    Klasyfikację odpowiedzi.\n",
        "  \"\"\"\n",
        "\n",
        "  # Usunięcie białych znaków z odpowiedzi.\n",
        "  answer = answer.strip()\n",
        "\n",
        "  # Przekształcenie odpowiedzi na liczbę.\n",
        "  try:\n",
        "    answer = float(answer)\n",
        "  except ValueError:\n",
        "    # Nie udało się przekonwertować odpowiedzi na liczbę.\n",
        "    return None\n",
        "\n",
        "  # Klasyfikacja odpowiedzi.\n",
        "  if answer == 0:\n",
        "    return \"Dodawanie\"\n",
        "  elif answer < 0:\n",
        "    return \"Odejmowanie\"\n",
        "  elif answer == 1:\n",
        "    return \"Mnożenie\"\n",
        "  else:\n",
        "    return \"Dzielenie\"\n",
        "\n",
        "# Wyświetlanie klasyfikacji odpowiedzi\n",
        "\n",
        "for answer in y_test:\n",
        "  print(f\"Odpowiedź: {answer} - Klasyfikacja: {classify_answer(answer)}\")\n"
      ],
      "metadata": {
        "colab": {
          "base_uri": "https://localhost:8080/"
        },
        "id": "amfEaKsjwkwd",
        "outputId": "f64b9ada-6ba5-4f36-983d-e7705d91b014"
      },
      "execution_count": null,
      "outputs": [
        {
          "output_type": "stream",
          "name": "stdout",
          "text": [
            "Odpowiedź: Addition and Subtraction of Single Digits - Klasyfikacja: None\n",
            "Odpowiedź: Addition and Subtraction of Single Digits - Klasyfikacja: None\n",
            "Odpowiedź: Multiplying Double Digits by 2 - Klasyfikacja: None\n",
            "Odpowiedź: Addition and Subtraction of Double Digits - Klasyfikacja: None\n",
            "Odpowiedź: Addition and Subtraction of Single Digits - Klasyfikacja: None\n",
            "Odpowiedź: Multiplying Double Digits by 2 - Klasyfikacja: None\n",
            "Odpowiedź: Multiplying Double Digits by 2 - Klasyfikacja: None\n",
            "Odpowiedź: Solving Equations with Unknown in Windowed Form - Klasyfikacja: None\n",
            "Odpowiedź: Addition and Subtraction of Single Digits - Klasyfikacja: None\n",
            "Odpowiedź: Addition and Subtraction of Single Digits - Klasyfikacja: None\n",
            "Odpowiedź: Addition and Subtraction of Double Digits - Klasyfikacja: None\n",
            "Odpowiedź: Multiplication and Division within Times Tables Range - Klasyfikacja: None\n",
            "Odpowiedź: Multiplying Double Digits by 2 - Klasyfikacja: None\n",
            "Odpowiedź: Multiplication and Division within Times Tables Range - Klasyfikacja: None\n",
            "Odpowiedź: Solving Equations with Unknown in Windowed Form - Klasyfikacja: None\n",
            "Odpowiedź: Multiplying Double Digits by 2 - Klasyfikacja: None\n",
            "Odpowiedź: Addition and Subtraction of Single Digits - Klasyfikacja: None\n",
            "Odpowiedź: Addition and Subtraction of Double Digits - Klasyfikacja: None\n",
            "Odpowiedź: Solving Equations with Unknown in Windowed Form - Klasyfikacja: None\n",
            "Odpowiedź: Multiplication and Division within Times Tables Range - Klasyfikacja: None\n",
            "Odpowiedź: Multiplying Double Digits by 2 - Klasyfikacja: None\n"
          ]
        }
      ]
    },
    {
      "cell_type": "code",
      "source": [
        "import random\n",
        "\n",
        "def generate_task(task_type):\n",
        "    if task_type == 'Solving Equations with Unknown in Windowed Form - Easy':\n",
        "        return f'Dane jest równanie: \\n{random.randint(10, 100)} + x = {random.randint(10, 100)} \\nUzupełnij x'\n",
        "    elif task_type == 'Solving Equations with Unknown in Windowed Form - Medium':\n",
        "        return f'Dane jest równanie: \\n{random.randint(100, 200)} + x = {random.randint(200, 300)} \\nUzupełnij x'\n",
        "    else:\n",
        "        return f'Dane jest równanie: \\n{random.randint(300, 400)} + x = {random.randint(400, 500)} \\nUzupełnij x'\n",
        "\n",
        "\n",
        "# Obliczenie poziomu umiejętności uczniów\n",
        "student_levels = []\n",
        "for i in range(len(X_test)):\n",
        "    student_level = tree_classifier.predict_proba(X_test.iloc[[i]])[0].argmax()\n",
        "    student_levels.append(student_level)\n",
        "\n",
        "# Wyświetlenie poziomu umiejętności uczniów\n",
        "print(student_levels)\n",
        "\n",
        "# Dostosowanie zadań matematycznych do poziomu umiejętności uczniów\n",
        "for i in range(len(X_test)):\n",
        "    task_type = y_test.iloc[i]\n",
        "    student_level = student_levels[i]\n",
        "\n",
        "    # Wybierz zadania o odpowiednim poziomie trudności\n",
        "    if task_type == 'Solving Equations with Unknown in Windowed Form':\n",
        "        if student_level == 0:\n",
        "            task_type = 'Solving Equations with Unknown in Windowed Form - Easy'\n",
        "        elif student_level == 1:\n",
        "            task_type = 'Solving Equations with Unknown in Windowed Form - Medium'\n",
        "        else:\n",
        "            task_type = 'Solving Equations with Unknown in Windowed Form - Hard'\n",
        "\n",
        "    # Wygeneruj zadanie\n",
        "    task = generate_task(task_type)\n",
        "\n",
        "    # Wyświetl zadanie\n",
        "    print(task)\n",
        "\n",
        "\n"
      ],
      "metadata": {
        "colab": {
          "base_uri": "https://localhost:8080/"
        },
        "id": "zBrXPO7XwmW3",
        "outputId": "22629f4a-14f0-484f-eab6-83b95cc5357d"
      },
      "execution_count": null,
      "outputs": [
        {
          "output_type": "stream",
          "name": "stdout",
          "text": [
            "[1, 1, 3, 0, 1, 3, 3, 4, 1, 1, 0, 2, 3, 2, 4, 3, 1, 0, 4, 2, 3]\n",
            "Dane jest równanie: \n",
            "369 + x = 416 \n",
            "Uzupełnij x\n",
            "Dane jest równanie: \n",
            "329 + x = 498 \n",
            "Uzupełnij x\n",
            "Dane jest równanie: \n",
            "310 + x = 423 \n",
            "Uzupełnij x\n",
            "Dane jest równanie: \n",
            "303 + x = 454 \n",
            "Uzupełnij x\n",
            "Dane jest równanie: \n",
            "395 + x = 429 \n",
            "Uzupełnij x\n",
            "Dane jest równanie: \n",
            "382 + x = 426 \n",
            "Uzupełnij x\n",
            "Dane jest równanie: \n",
            "358 + x = 490 \n",
            "Uzupełnij x\n",
            "Dane jest równanie: \n",
            "317 + x = 436 \n",
            "Uzupełnij x\n",
            "Dane jest równanie: \n",
            "374 + x = 470 \n",
            "Uzupełnij x\n",
            "Dane jest równanie: \n",
            "399 + x = 476 \n",
            "Uzupełnij x\n",
            "Dane jest równanie: \n",
            "353 + x = 476 \n",
            "Uzupełnij x\n",
            "Dane jest równanie: \n",
            "310 + x = 433 \n",
            "Uzupełnij x\n",
            "Dane jest równanie: \n",
            "323 + x = 452 \n",
            "Uzupełnij x\n",
            "Dane jest równanie: \n",
            "395 + x = 488 \n",
            "Uzupełnij x\n",
            "Dane jest równanie: \n",
            "393 + x = 475 \n",
            "Uzupełnij x\n",
            "Dane jest równanie: \n",
            "336 + x = 465 \n",
            "Uzupełnij x\n",
            "Dane jest równanie: \n",
            "368 + x = 405 \n",
            "Uzupełnij x\n",
            "Dane jest równanie: \n",
            "303 + x = 415 \n",
            "Uzupełnij x\n",
            "Dane jest równanie: \n",
            "392 + x = 457 \n",
            "Uzupełnij x\n",
            "Dane jest równanie: \n",
            "344 + x = 496 \n",
            "Uzupełnij x\n",
            "Dane jest równanie: \n",
            "343 + x = 401 \n",
            "Uzupełnij x\n"
          ]
        }
      ]
    },
    {
      "cell_type": "code",
      "source": [
        "import pandas as pd\n",
        "\n",
        "# Wczytanie danych treningowych i testowych\n",
        "difficulty_data = pd.read_csv('difficulty_data.csv')\n",
        "test_data = pd.read_csv('test_data.csv', sep=';')\n",
        "\n",
        "# Definicja funkcji personalizacji\n",
        "def personalize_task_difficulty(student_data, difficulty_data):\n",
        "    personalized_tasks = []\n",
        "\n",
        "    for index, row in student_data.iterrows():\n",
        "        task_type = row['Task Type']\n",
        "        operation = row['Operation']\n",
        "        skill_level = row['Skill Level']\n",
        "\n",
        "        # Filtracja danych treningowych na podstawie kryteriów\n",
        "        filtered_data = difficulty_data[(difficulty_data['Task'] == operation) &\n",
        "                                        (difficulty_data['Complexity'] == 'Simple actions')]\n",
        "\n",
        "        # Wybór zadania o najbliższej trudności do wyniku ucznia\n",
        "        closest_task = filtered_data.iloc[(filtered_data['Rating'] - int(skill_level)).abs().argsort()[:1]]\n",
        "\n",
        "        # Dodanie personalizowanego zadania do listy\n",
        "        personalized_tasks.append({\n",
        "            'Task Type': task_type,\n",
        "            'Task Data': row['Task Data'],\n",
        "            'Operation': closest_task['Type of Operation'].values[0],\n",
        "            'Student Response': None,\n",
        "            'Time Taken': None,\n",
        "            'Age': row['Age'],\n",
        "            'Gender': row['Gender'],\n",
        "            'Skill Level': skill_level\n",
        "        })\n",
        "\n",
        "    return pd.DataFrame(personalized_tasks)\n",
        "\n",
        "# Personalizacja zadań dla uczniów\n",
        "personalized_tasks_df = personalize_task_difficulty(test_data, difficulty_data)\n",
        "\n",
        "# Wyświetlenie wyników personalizacji\n",
        "print(personalized_tasks_df)\n"
      ],
      "metadata": {
        "colab": {
          "base_uri": "https://localhost:8080/",
          "height": 367
        },
        "id": "ECWnPoy3Rl9c",
        "outputId": "e32f0dad-2495-4ebf-f221-406aec21c3fc"
      },
      "execution_count": null,
      "outputs": [
        {
          "output_type": "error",
          "ename": "ValueError",
          "evalue": "ignored",
          "traceback": [
            "\u001b[0;31m---------------------------------------------------------------------------\u001b[0m",
            "\u001b[0;31mValueError\u001b[0m                                Traceback (most recent call last)",
            "\u001b[0;32m<ipython-input-166-4909b2cdd7d6>\u001b[0m in \u001b[0;36m<cell line: 38>\u001b[0;34m()\u001b[0m\n\u001b[1;32m     36\u001b[0m \u001b[0;34m\u001b[0m\u001b[0m\n\u001b[1;32m     37\u001b[0m \u001b[0;31m# Personalizacja zadań dla uczniów\u001b[0m\u001b[0;34m\u001b[0m\u001b[0;34m\u001b[0m\u001b[0m\n\u001b[0;32m---> 38\u001b[0;31m \u001b[0mpersonalized_tasks_df\u001b[0m \u001b[0;34m=\u001b[0m \u001b[0mpersonalize_task_difficulty\u001b[0m\u001b[0;34m(\u001b[0m\u001b[0mtest_data\u001b[0m\u001b[0;34m,\u001b[0m \u001b[0mdifficulty_data\u001b[0m\u001b[0;34m)\u001b[0m\u001b[0;34m\u001b[0m\u001b[0;34m\u001b[0m\u001b[0m\n\u001b[0m\u001b[1;32m     39\u001b[0m \u001b[0;34m\u001b[0m\u001b[0m\n\u001b[1;32m     40\u001b[0m \u001b[0;31m# Wyświetlenie wyników personalizacji\u001b[0m\u001b[0;34m\u001b[0m\u001b[0;34m\u001b[0m\u001b[0m\n",
            "\u001b[0;32m<ipython-input-166-4909b2cdd7d6>\u001b[0m in \u001b[0;36mpersonalize_task_difficulty\u001b[0;34m(student_data, difficulty_data)\u001b[0m\n\u001b[1;32m     19\u001b[0m \u001b[0;34m\u001b[0m\u001b[0m\n\u001b[1;32m     20\u001b[0m         \u001b[0;31m# Wybór zadania o najbliższej trudności do wyniku ucznia\u001b[0m\u001b[0;34m\u001b[0m\u001b[0;34m\u001b[0m\u001b[0m\n\u001b[0;32m---> 21\u001b[0;31m         \u001b[0mclosest_task\u001b[0m \u001b[0;34m=\u001b[0m \u001b[0mfiltered_data\u001b[0m\u001b[0;34m.\u001b[0m\u001b[0miloc\u001b[0m\u001b[0;34m[\u001b[0m\u001b[0;34m(\u001b[0m\u001b[0mfiltered_data\u001b[0m\u001b[0;34m[\u001b[0m\u001b[0;34m'Rating'\u001b[0m\u001b[0;34m]\u001b[0m \u001b[0;34m-\u001b[0m \u001b[0mint\u001b[0m\u001b[0;34m(\u001b[0m\u001b[0mskill_level\u001b[0m\u001b[0;34m)\u001b[0m\u001b[0;34m)\u001b[0m\u001b[0;34m.\u001b[0m\u001b[0mabs\u001b[0m\u001b[0;34m(\u001b[0m\u001b[0;34m)\u001b[0m\u001b[0;34m.\u001b[0m\u001b[0margsort\u001b[0m\u001b[0;34m(\u001b[0m\u001b[0;34m)\u001b[0m\u001b[0;34m[\u001b[0m\u001b[0;34m:\u001b[0m\u001b[0;36m1\u001b[0m\u001b[0;34m]\u001b[0m\u001b[0;34m]\u001b[0m\u001b[0;34m\u001b[0m\u001b[0;34m\u001b[0m\u001b[0m\n\u001b[0m\u001b[1;32m     22\u001b[0m \u001b[0;34m\u001b[0m\u001b[0m\n\u001b[1;32m     23\u001b[0m         \u001b[0;31m# Dodanie personalizowanego zadania do listy\u001b[0m\u001b[0;34m\u001b[0m\u001b[0;34m\u001b[0m\u001b[0m\n",
            "\u001b[0;31mValueError\u001b[0m: invalid literal for int() with base 10: 'Beginner'"
          ]
        }
      ]
    }
  ]
}